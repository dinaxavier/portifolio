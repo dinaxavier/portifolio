{
  "cells": [
    {
      "cell_type": "markdown",
      "metadata": {
        "id": "p-d-VBL3Y00Q"
      },
      "source": [
        "## Descobrindo padrões de perda de clientes"
      ]
    },
    {
      "cell_type": "markdown",
      "metadata": {
        "id": "EKvj3BbBY00S"
      },
      "source": [
        "Analisarei os dados clientes perdidos para descobrir padrões. Isso ajudará a entender melhor estes padrões e fazer uma análise da causa raiz pela qual eles estão ocorrendo. Usarei o algoritmo de mineração de regras de associação para esse propósito."
      ]
    },
    {
      "cell_type": "markdown",
      "metadata": {
        "id": "SSdxZMAWY00T"
      },
      "source": [
        "## Carregando o conjunto de dados e transformando"
      ]
    },
    {
      "cell_type": "code",
      "execution_count": null,
      "metadata": {
        "id": "0rtmJSxEY00U"
      },
      "outputs": [],
      "source": [
        "from pandas import Series, DataFrame\n",
        "import pandas as pd\n",
        "import numpy as np\n",
        "import os\n",
        "import matplotlib.pylab as plt\n"
      ]
    },
    {
      "cell_type": "code",
      "source": [
        "!pip install apyori\n",
        "\n",
        "from apyori import apriori"
      ],
      "metadata": {
        "colab": {
          "base_uri": "https://localhost:8080/"
        },
        "id": "fhxxnhycC5_H",
        "outputId": "ea99f73a-53cf-42e3-afd2-4479d3686176"
      },
      "execution_count": null,
      "outputs": [
        {
          "output_type": "stream",
          "name": "stdout",
          "text": [
            "Requirement already satisfied: apyori in /usr/local/lib/python3.10/dist-packages (1.1.2)\n"
          ]
        }
      ]
    },
    {
      "cell_type": "code",
      "source": [
        "#Carregando o conjunto de dados dos clientes em potencial\n",
        "raw_data = pd.read_csv(\"06_05_attrition.csv\")\n",
        "\n",
        "raw_data.head()"
      ],
      "metadata": {
        "colab": {
          "base_uri": "https://localhost:8080/",
          "height": 206
        },
        "id": "ohU001BfC_8Y",
        "outputId": "65bda9fe-3912-49da-e899-4069de645356"
      },
      "execution_count": null,
      "outputs": [
        {
          "output_type": "execute_result",
          "data": {
            "text/plain": [
              "  LIFETIME    TYPE        REASON AGE_GROUP  EMP_STATUS MARITAL_STATUS  \\\n",
              "0  1 - 3 M  CANCEL  BETTER DEALS      < 20     STUDENT         SINGLE   \n",
              "1  1 - 3 M  CANCEL  BETTER DEALS      < 20     STUDENT         SINGLE   \n",
              "2  1Y - 2Y  CANCEL     NOT HAPPY   30 - 50    EMPLOYED        MARRIED   \n",
              "3  1Y - 2Y  EXPIRY  BETTER DEALS   30 - 50    EMPLOYED        MARRIED   \n",
              "4  1Y - 2Y  CANCEL     NOT HAPPY   30 - 50  UNEMPLOYED         SINGLE   \n",
              "\n",
              "  RENEWALS PROBLEMS  OFFERS  \n",
              "0        0   0 to 5  0 to 2  \n",
              "1        0   0 to 5  0 to 2  \n",
              "2        1  10 plus  0 to 2  \n",
              "3        1   0 to 5  2 to 5  \n",
              "4        1  10 plus  0 to 2  "
            ],
            "text/html": [
              "\n",
              "  <div id=\"df-d2365b8e-bacd-4e8a-95d1-ea5f8c924e97\">\n",
              "    <div class=\"colab-df-container\">\n",
              "      <div>\n",
              "<style scoped>\n",
              "    .dataframe tbody tr th:only-of-type {\n",
              "        vertical-align: middle;\n",
              "    }\n",
              "\n",
              "    .dataframe tbody tr th {\n",
              "        vertical-align: top;\n",
              "    }\n",
              "\n",
              "    .dataframe thead th {\n",
              "        text-align: right;\n",
              "    }\n",
              "</style>\n",
              "<table border=\"1\" class=\"dataframe\">\n",
              "  <thead>\n",
              "    <tr style=\"text-align: right;\">\n",
              "      <th></th>\n",
              "      <th>LIFETIME</th>\n",
              "      <th>TYPE</th>\n",
              "      <th>REASON</th>\n",
              "      <th>AGE_GROUP</th>\n",
              "      <th>EMP_STATUS</th>\n",
              "      <th>MARITAL_STATUS</th>\n",
              "      <th>RENEWALS</th>\n",
              "      <th>PROBLEMS</th>\n",
              "      <th>OFFERS</th>\n",
              "    </tr>\n",
              "  </thead>\n",
              "  <tbody>\n",
              "    <tr>\n",
              "      <th>0</th>\n",
              "      <td>1 - 3 M</td>\n",
              "      <td>CANCEL</td>\n",
              "      <td>BETTER DEALS</td>\n",
              "      <td>&lt; 20</td>\n",
              "      <td>STUDENT</td>\n",
              "      <td>SINGLE</td>\n",
              "      <td>0</td>\n",
              "      <td>0 to 5</td>\n",
              "      <td>0 to 2</td>\n",
              "    </tr>\n",
              "    <tr>\n",
              "      <th>1</th>\n",
              "      <td>1 - 3 M</td>\n",
              "      <td>CANCEL</td>\n",
              "      <td>BETTER DEALS</td>\n",
              "      <td>&lt; 20</td>\n",
              "      <td>STUDENT</td>\n",
              "      <td>SINGLE</td>\n",
              "      <td>0</td>\n",
              "      <td>0 to 5</td>\n",
              "      <td>0 to 2</td>\n",
              "    </tr>\n",
              "    <tr>\n",
              "      <th>2</th>\n",
              "      <td>1Y - 2Y</td>\n",
              "      <td>CANCEL</td>\n",
              "      <td>NOT HAPPY</td>\n",
              "      <td>30 - 50</td>\n",
              "      <td>EMPLOYED</td>\n",
              "      <td>MARRIED</td>\n",
              "      <td>1</td>\n",
              "      <td>10 plus</td>\n",
              "      <td>0 to 2</td>\n",
              "    </tr>\n",
              "    <tr>\n",
              "      <th>3</th>\n",
              "      <td>1Y - 2Y</td>\n",
              "      <td>EXPIRY</td>\n",
              "      <td>BETTER DEALS</td>\n",
              "      <td>30 - 50</td>\n",
              "      <td>EMPLOYED</td>\n",
              "      <td>MARRIED</td>\n",
              "      <td>1</td>\n",
              "      <td>0 to 5</td>\n",
              "      <td>2 to 5</td>\n",
              "    </tr>\n",
              "    <tr>\n",
              "      <th>4</th>\n",
              "      <td>1Y - 2Y</td>\n",
              "      <td>CANCEL</td>\n",
              "      <td>NOT HAPPY</td>\n",
              "      <td>30 - 50</td>\n",
              "      <td>UNEMPLOYED</td>\n",
              "      <td>SINGLE</td>\n",
              "      <td>1</td>\n",
              "      <td>10 plus</td>\n",
              "      <td>0 to 2</td>\n",
              "    </tr>\n",
              "  </tbody>\n",
              "</table>\n",
              "</div>\n",
              "      <button class=\"colab-df-convert\" onclick=\"convertToInteractive('df-d2365b8e-bacd-4e8a-95d1-ea5f8c924e97')\"\n",
              "              title=\"Convert this dataframe to an interactive table.\"\n",
              "              style=\"display:none;\">\n",
              "        \n",
              "  <svg xmlns=\"http://www.w3.org/2000/svg\" height=\"24px\"viewBox=\"0 0 24 24\"\n",
              "       width=\"24px\">\n",
              "    <path d=\"M0 0h24v24H0V0z\" fill=\"none\"/>\n",
              "    <path d=\"M18.56 5.44l.94 2.06.94-2.06 2.06-.94-2.06-.94-.94-2.06-.94 2.06-2.06.94zm-11 1L8.5 8.5l.94-2.06 2.06-.94-2.06-.94L8.5 2.5l-.94 2.06-2.06.94zm10 10l.94 2.06.94-2.06 2.06-.94-2.06-.94-.94-2.06-.94 2.06-2.06.94z\"/><path d=\"M17.41 7.96l-1.37-1.37c-.4-.4-.92-.59-1.43-.59-.52 0-1.04.2-1.43.59L10.3 9.45l-7.72 7.72c-.78.78-.78 2.05 0 2.83L4 21.41c.39.39.9.59 1.41.59.51 0 1.02-.2 1.41-.59l7.78-7.78 2.81-2.81c.8-.78.8-2.07 0-2.86zM5.41 20L4 18.59l7.72-7.72 1.47 1.35L5.41 20z\"/>\n",
              "  </svg>\n",
              "      </button>\n",
              "      \n",
              "  <style>\n",
              "    .colab-df-container {\n",
              "      display:flex;\n",
              "      flex-wrap:wrap;\n",
              "      gap: 12px;\n",
              "    }\n",
              "\n",
              "    .colab-df-convert {\n",
              "      background-color: #E8F0FE;\n",
              "      border: none;\n",
              "      border-radius: 50%;\n",
              "      cursor: pointer;\n",
              "      display: none;\n",
              "      fill: #1967D2;\n",
              "      height: 32px;\n",
              "      padding: 0 0 0 0;\n",
              "      width: 32px;\n",
              "    }\n",
              "\n",
              "    .colab-df-convert:hover {\n",
              "      background-color: #E2EBFA;\n",
              "      box-shadow: 0px 1px 2px rgba(60, 64, 67, 0.3), 0px 1px 3px 1px rgba(60, 64, 67, 0.15);\n",
              "      fill: #174EA6;\n",
              "    }\n",
              "\n",
              "    [theme=dark] .colab-df-convert {\n",
              "      background-color: #3B4455;\n",
              "      fill: #D2E3FC;\n",
              "    }\n",
              "\n",
              "    [theme=dark] .colab-df-convert:hover {\n",
              "      background-color: #434B5C;\n",
              "      box-shadow: 0px 1px 3px 1px rgba(0, 0, 0, 0.15);\n",
              "      filter: drop-shadow(0px 1px 2px rgba(0, 0, 0, 0.3));\n",
              "      fill: #FFFFFF;\n",
              "    }\n",
              "  </style>\n",
              "\n",
              "      <script>\n",
              "        const buttonEl =\n",
              "          document.querySelector('#df-d2365b8e-bacd-4e8a-95d1-ea5f8c924e97 button.colab-df-convert');\n",
              "        buttonEl.style.display =\n",
              "          google.colab.kernel.accessAllowed ? 'block' : 'none';\n",
              "\n",
              "        async function convertToInteractive(key) {\n",
              "          const element = document.querySelector('#df-d2365b8e-bacd-4e8a-95d1-ea5f8c924e97');\n",
              "          const dataTable =\n",
              "            await google.colab.kernel.invokeFunction('convertToInteractive',\n",
              "                                                     [key], {});\n",
              "          if (!dataTable) return;\n",
              "\n",
              "          const docLinkHtml = 'Like what you see? Visit the ' +\n",
              "            '<a target=\"_blank\" href=https://colab.research.google.com/notebooks/data_table.ipynb>data table notebook</a>'\n",
              "            + ' to learn more about interactive tables.';\n",
              "          element.innerHTML = '';\n",
              "          dataTable['output_type'] = 'display_data';\n",
              "          await google.colab.output.renderOutput(dataTable, element);\n",
              "          const docLink = document.createElement('div');\n",
              "          docLink.innerHTML = docLinkHtml;\n",
              "          element.appendChild(docLink);\n",
              "        }\n",
              "      </script>\n",
              "    </div>\n",
              "  </div>\n",
              "  "
            ]
          },
          "metadata": {},
          "execution_count": 9
        }
      ]
    },
    {
      "cell_type": "markdown",
      "metadata": {
        "id": "MCLiGa-EY00V"
      },
      "source": [
        "O CSV contém informações sobre cada cliente que deixou a empresa. Contém atributos como CICLO DE VIDA do cliente, como o cliente saiu, razões, problemas e dados demográficos.\n",
        "\n",
        "Para fazer a mineração de regras de associação os dados precisam estar em um formato específico. Cada linha deve ser uma transação com uma lista de itens para essa transação. Converteremos os dados do CSV em valores como \"name=value\" para criar essa estrutura de dados específica."
      ]
    },
    {
      "cell_type": "code",
      "execution_count": null,
      "metadata": {
        "colab": {
          "base_uri": "https://localhost:8080/"
        },
        "id": "TdLGBD99Y00W",
        "outputId": "105bf3ba-da7c-46a5-aff1-d8b20a3263f6"
      },
      "outputs": [
        {
          "output_type": "stream",
          "name": "stderr",
          "text": [
            "<ipython-input-10-d5845c3e8336>:10: FutureWarning: iteritems is deprecated and will be removed in a future version. Use .items instead.\n",
            "  for colName, col in row.iteritems():\n"
          ]
        }
      ],
      "source": [
        "basket_str = \"\"\n",
        "for rowNum, row in raw_data.iterrows():\n",
        "\n",
        "    #Quebra de linhas\n",
        "    if (rowNum != 0):\n",
        "        basket_str = basket_str + \"\\n\"\n",
        "    #Adicionar rowid como primeira coluna\n",
        "    basket_str = basket_str + str(rowNum)\n",
        "    #Adicionar colunas\n",
        "    for colName, col in row.iteritems():\n",
        "        basket_str = basket_str + \",\\\"\" + colName + \"=\" + str(col) +\"\\\"\"\n",
        "\n",
        "#print(basket_str)\n",
        "basket_file=open(\"warranty_basket.csv\",\"w\")\n",
        "basket_file.write(basket_str)\n",
        "basket_file.close()\n"
      ]
    },
    {
      "cell_type": "markdown",
      "metadata": {
        "id": "BrpWXDv5Y00W"
      },
      "source": [
        "## Criando regras de associação\n",
        "Usando o algoritmo apriori para criar regras de associação. A seguir, extraímos os resultados e preenchemos um data frame para uso futuro. O apriori proporciona o LHS para múltiplas combinações dos itens. Capturarei métricas “count”, “confidence” e “fit”"
      ]
    },
    {
      "cell_type": "code",
      "execution_count": null,
      "metadata": {
        "id": "WXCDvyUmY00X"
      },
      "outputs": [],
      "source": [
        "basket_data=pd.read_csv(\"warranty_basket.csv\",header=None)\n",
        "filt_data = basket_data.drop(basket_data.columns[[0]], axis=1)\n",
        "results= list(apriori(filt_data.values))\n",
        "\n",
        "rulesList= pd.DataFrame(columns=('LHS', 'RHS', 'COUNT', 'CONFIDENCE','LIFT'))\n",
        "rowCount=0\n",
        "\n",
        "#converter resultados em um data frame\n",
        "for row in results:\n",
        "    for affinity in row[2]:\n",
        "        rulesList.loc[rowCount] = [ ', '.join(affinity.items_base) ,\\\n",
        "                                    affinity.items_add, \\\n",
        "                                    len(affinity.items_base) ,\\\n",
        "                                    affinity.confidence,\\\n",
        "                                    affinity.lift]\n",
        "        rowCount +=1\n"
      ]
    },
    {
      "cell_type": "markdown",
      "metadata": {
        "id": "5Cmhc05DY00Y"
      },
      "source": [
        "## Usando as regras"
      ]
    },
    {
      "cell_type": "code",
      "execution_count": null,
      "metadata": {
        "id": "evUEnRRNY00Y",
        "outputId": "f0504135-0295-427a-d9c4-a7b3f1f1ce55"
      },
      "outputs": [
        {
          "data": {
            "text/html": [
              "<div>\n",
              "<style scoped>\n",
              "    .dataframe tbody tr th:only-of-type {\n",
              "        vertical-align: middle;\n",
              "    }\n",
              "\n",
              "    .dataframe tbody tr th {\n",
              "        vertical-align: top;\n",
              "    }\n",
              "\n",
              "    .dataframe thead th {\n",
              "        text-align: right;\n",
              "    }\n",
              "</style>\n",
              "<table border=\"1\" class=\"dataframe\">\n",
              "  <thead>\n",
              "    <tr style=\"text-align: right;\">\n",
              "      <th></th>\n",
              "      <th>LHS</th>\n",
              "      <th>RHS</th>\n",
              "      <th>COUNT</th>\n",
              "      <th>CONFIDENCE</th>\n",
              "      <th>LIFT</th>\n",
              "    </tr>\n",
              "  </thead>\n",
              "  <tbody>\n",
              "    <tr>\n",
              "      <th>0</th>\n",
              "      <td></td>\n",
              "      <td>(AGE_GROUP=20 - 30)</td>\n",
              "      <td>0</td>\n",
              "      <td>0.34</td>\n",
              "      <td>1.0</td>\n",
              "    </tr>\n",
              "    <tr>\n",
              "      <th>1</th>\n",
              "      <td></td>\n",
              "      <td>(AGE_GROUP=30 - 50)</td>\n",
              "      <td>0</td>\n",
              "      <td>0.32</td>\n",
              "      <td>1.0</td>\n",
              "    </tr>\n",
              "    <tr>\n",
              "      <th>2</th>\n",
              "      <td></td>\n",
              "      <td>(AGE_GROUP=50PLUS )</td>\n",
              "      <td>0</td>\n",
              "      <td>0.16</td>\n",
              "      <td>1.0</td>\n",
              "    </tr>\n",
              "    <tr>\n",
              "      <th>3</th>\n",
              "      <td></td>\n",
              "      <td>(AGE_GROUP=&lt; 20)</td>\n",
              "      <td>0</td>\n",
              "      <td>0.18</td>\n",
              "      <td>1.0</td>\n",
              "    </tr>\n",
              "    <tr>\n",
              "      <th>4</th>\n",
              "      <td></td>\n",
              "      <td>(EMP_STATUS=EMPLOYED)</td>\n",
              "      <td>0</td>\n",
              "      <td>0.54</td>\n",
              "      <td>1.0</td>\n",
              "    </tr>\n",
              "  </tbody>\n",
              "</table>\n",
              "</div>"
            ],
            "text/plain": [
              "  LHS                    RHS  COUNT  CONFIDENCE  LIFT\n",
              "0        (AGE_GROUP=20 - 30)      0        0.34   1.0\n",
              "1        (AGE_GROUP=30 - 50)      0        0.32   1.0\n",
              "2        (AGE_GROUP=50PLUS )      0        0.16   1.0\n",
              "3           (AGE_GROUP=< 20)      0        0.18   1.0\n",
              "4      (EMP_STATUS=EMPLOYED)      0        0.54   1.0"
            ]
          },
          "execution_count": 5,
          "metadata": {},
          "output_type": "execute_result"
        }
      ],
      "source": [
        "rulesList.head()"
      ]
    },
    {
      "cell_type": "markdown",
      "metadata": {
        "id": "TzjRU9YyY00Z"
      },
      "source": [
        "Filtrando as regras quando a contagem de elementos for 1 e a confiança for > 70%"
      ]
    },
    {
      "cell_type": "code",
      "execution_count": null,
      "metadata": {
        "id": "nlcmUNFVY00Z",
        "outputId": "888dd4ed-ef6f-4795-ec3e-298409d0c84a"
      },
      "outputs": [
        {
          "data": {
            "text/html": [
              "<div>\n",
              "<style scoped>\n",
              "    .dataframe tbody tr th:only-of-type {\n",
              "        vertical-align: middle;\n",
              "    }\n",
              "\n",
              "    .dataframe tbody tr th {\n",
              "        vertical-align: top;\n",
              "    }\n",
              "\n",
              "    .dataframe thead th {\n",
              "        text-align: right;\n",
              "    }\n",
              "</style>\n",
              "<table border=\"1\" class=\"dataframe\">\n",
              "  <thead>\n",
              "    <tr style=\"text-align: right;\">\n",
              "      <th></th>\n",
              "      <th>LHS</th>\n",
              "      <th>RHS</th>\n",
              "      <th>COUNT</th>\n",
              "      <th>CONFIDENCE</th>\n",
              "      <th>LIFT</th>\n",
              "    </tr>\n",
              "  </thead>\n",
              "  <tbody>\n",
              "    <tr>\n",
              "      <th>38</th>\n",
              "      <td>LIFETIME=3M to 1Y</td>\n",
              "      <td>(AGE_GROUP=20 - 30)</td>\n",
              "      <td>1</td>\n",
              "      <td>1.000000</td>\n",
              "      <td>2.941176</td>\n",
              "    </tr>\n",
              "    <tr>\n",
              "      <th>70</th>\n",
              "      <td>AGE_GROUP=20 - 30</td>\n",
              "      <td>(TYPE=CANCEL)</td>\n",
              "      <td>1</td>\n",
              "      <td>0.941176</td>\n",
              "      <td>1.568627</td>\n",
              "    </tr>\n",
              "    <tr>\n",
              "      <th>79</th>\n",
              "      <td>AGE_GROUP=30 - 50</td>\n",
              "      <td>(LIFETIME=1Y - 2Y)</td>\n",
              "      <td>1</td>\n",
              "      <td>1.000000</td>\n",
              "      <td>3.125000</td>\n",
              "    </tr>\n",
              "    <tr>\n",
              "      <th>80</th>\n",
              "      <td>LIFETIME=1Y - 2Y</td>\n",
              "      <td>(AGE_GROUP=30 - 50)</td>\n",
              "      <td>1</td>\n",
              "      <td>1.000000</td>\n",
              "      <td>3.125000</td>\n",
              "    </tr>\n",
              "    <tr>\n",
              "      <th>83</th>\n",
              "      <td>MARITAL_STATUS=MARRIED</td>\n",
              "      <td>(AGE_GROUP=30 - 50)</td>\n",
              "      <td>1</td>\n",
              "      <td>0.833333</td>\n",
              "      <td>2.604167</td>\n",
              "    </tr>\n",
              "  </tbody>\n",
              "</table>\n",
              "</div>"
            ],
            "text/plain": [
              "                       LHS                  RHS  COUNT  CONFIDENCE      LIFT\n",
              "38       LIFETIME=3M to 1Y  (AGE_GROUP=20 - 30)      1    1.000000  2.941176\n",
              "70       AGE_GROUP=20 - 30        (TYPE=CANCEL)      1    0.941176  1.568627\n",
              "79       AGE_GROUP=30 - 50   (LIFETIME=1Y - 2Y)      1    1.000000  3.125000\n",
              "80        LIFETIME=1Y - 2Y  (AGE_GROUP=30 - 50)      1    1.000000  3.125000\n",
              "83  MARITAL_STATUS=MARRIED  (AGE_GROUP=30 - 50)      1    0.833333  2.604167"
            ]
          },
          "execution_count": 7,
          "metadata": {},
          "output_type": "execute_result"
        }
      ],
      "source": [
        "rulesList[(rulesList.COUNT <= 1) & (rulesList.CONFIDENCE > 0.7)].head(5)"
      ]
    },
    {
      "cell_type": "markdown",
      "metadata": {
        "id": "ASmXUgNZY00Z"
      },
      "source": [
        "Observando as regras, podemos ver facilmente alguns padrões. Clientes que deixaram a empresa entre três meses e um ano estão sempre na faixa etária de 20 a 30 anos. Da mesma forma, clientes na faixa etária de 20 a 30 anos sempre cancelaram o serviço. Esses são fatos interessantes que podem ser analisados mais a fundo pela empresa."
      ]
    }
  ],
  "metadata": {
    "kernelspec": {
      "display_name": "Python 3 (ipykernel)",
      "language": "python",
      "name": "python3"
    },
    "language_info": {
      "codemirror_mode": {
        "name": "ipython",
        "version": 3
      },
      "file_extension": ".py",
      "mimetype": "text/x-python",
      "name": "python",
      "nbconvert_exporter": "python",
      "pygments_lexer": "ipython3",
      "version": "3.9.12"
    },
    "colab": {
      "provenance": []
    }
  },
  "nbformat": 4,
  "nbformat_minor": 0
}