{
  "cells": [
    {
      "cell_type": "markdown",
      "metadata": {
        "id": "73Hfb2gSVbMb"
      },
      "source": [
        " ## Agrupando problemas similares no atendimento à clientes"
      ]
    },
    {
      "cell_type": "markdown",
      "metadata": {
        "id": "QM7w-3cgVbMk"
      },
      "source": [
        "Serão agrupados os problemas de suporte ao cliente em grupos com base em seus atributos. Em seguida, os grupos serão analisados para ver similaridades e diverenças entre eles."
      ]
    },
    {
      "cell_type": "markdown",
      "metadata": {
        "id": "TMoNZM3tVbMl"
      },
      "source": [
        "## Carregando o conjunto de dados\n",
        "\n",
        "\n"
      ]
    },
    {
      "cell_type": "code",
      "execution_count": null,
      "metadata": {
        "colab": {
          "base_uri": "https://localhost:8080/"
        },
        "id": "wa6Kv_sRVbMm",
        "outputId": "93609f03-6dab-47bb-d5bd-18e1703ddac5"
      },
      "outputs": [
        {
          "output_type": "execute_result",
          "data": {
            "text/plain": [
              "PROBLEMA_TIPO                    object\n",
              "CONTAGEM                          int64\n",
              "MEDIA_CHAMADOS_PARA_RESOLVER    float64\n",
              "MEDIA_TEMPO_RESOLUCAO             int64\n",
              "RECORR_TAXA                     float64\n",
              "SUBSTITUICAO_TAXA               float64\n",
              "dtype: object"
            ]
          },
          "metadata": {},
          "execution_count": 2
        }
      ],
      "source": [
        "%matplotlib inline\n",
        "\n",
        "from pandas import Series, DataFrame\n",
        "import pandas as pd\n",
        "import numpy as np\n",
        "import os\n",
        "import matplotlib.pylab as plt\n",
        "from sklearn.model_selection import train_test_split\n",
        "from sklearn.cluster import KMeans\n",
        "import sklearn.metrics\n",
        "\n",
        "raw_data = pd.read_csv(\"05_05_issues.csv\")\n",
        "raw_data.dtypes"
      ]
    },
    {
      "cell_type": "markdown",
      "metadata": {
        "id": "wwMvCtKPVbMn"
      },
      "source": [
        "O conjunto de dados contém um registro para cada tipo de problema exclusivo. Tem métricas para cada tipo como contagem, média de chamadas para resolver, tempo médio de resolução etc."
      ]
    },
    {
      "cell_type": "code",
      "execution_count": null,
      "metadata": {
        "colab": {
          "base_uri": "https://localhost:8080/",
          "height": 206
        },
        "id": "vxCz96jVVbMo",
        "outputId": "0f4377b3-07c0-400e-9b4c-ab38d5c4d7bc"
      },
      "outputs": [
        {
          "output_type": "execute_result",
          "data": {
            "text/plain": [
              "                        PROBLEMA_TIPO  CONTAGEM  MEDIA_CHAMADOS_PARA_RESOLVER  \\\n",
              "0                Perda de senha Admin        45                           2.3   \n",
              "1    Windows Reinicia automaticamente        47                           3.1   \n",
              "2  Sistema nao carrega apos reiniciar        12                           4.0   \n",
              "3                       Sistema lento       165                           1.2   \n",
              "4     Perda de conexao com a Internet       321                           1.0   \n",
              "\n",
              "   MEDIA_TEMPO_RESOLUCAO  RECORR_TAXA  SUBSTITUICAO_TAXA  \n",
              "0                     54         0.15               0.00  \n",
              "1                    132         0.30               0.03  \n",
              "2                    154         0.02               0.05  \n",
              "3                     32         0.03               0.00  \n",
              "4                      5         0.21               0.00  "
            ],
            "text/html": [
              "\n",
              "  <div id=\"df-0d28b5f6-b76a-402b-ae77-7a386f9b4e5e\">\n",
              "    <div class=\"colab-df-container\">\n",
              "      <div>\n",
              "<style scoped>\n",
              "    .dataframe tbody tr th:only-of-type {\n",
              "        vertical-align: middle;\n",
              "    }\n",
              "\n",
              "    .dataframe tbody tr th {\n",
              "        vertical-align: top;\n",
              "    }\n",
              "\n",
              "    .dataframe thead th {\n",
              "        text-align: right;\n",
              "    }\n",
              "</style>\n",
              "<table border=\"1\" class=\"dataframe\">\n",
              "  <thead>\n",
              "    <tr style=\"text-align: right;\">\n",
              "      <th></th>\n",
              "      <th>PROBLEMA_TIPO</th>\n",
              "      <th>CONTAGEM</th>\n",
              "      <th>MEDIA_CHAMADOS_PARA_RESOLVER</th>\n",
              "      <th>MEDIA_TEMPO_RESOLUCAO</th>\n",
              "      <th>RECORR_TAXA</th>\n",
              "      <th>SUBSTITUICAO_TAXA</th>\n",
              "    </tr>\n",
              "  </thead>\n",
              "  <tbody>\n",
              "    <tr>\n",
              "      <th>0</th>\n",
              "      <td>Perda de senha Admin</td>\n",
              "      <td>45</td>\n",
              "      <td>2.3</td>\n",
              "      <td>54</td>\n",
              "      <td>0.15</td>\n",
              "      <td>0.00</td>\n",
              "    </tr>\n",
              "    <tr>\n",
              "      <th>1</th>\n",
              "      <td>Windows Reinicia automaticamente</td>\n",
              "      <td>47</td>\n",
              "      <td>3.1</td>\n",
              "      <td>132</td>\n",
              "      <td>0.30</td>\n",
              "      <td>0.03</td>\n",
              "    </tr>\n",
              "    <tr>\n",
              "      <th>2</th>\n",
              "      <td>Sistema nao carrega apos reiniciar</td>\n",
              "      <td>12</td>\n",
              "      <td>4.0</td>\n",
              "      <td>154</td>\n",
              "      <td>0.02</td>\n",
              "      <td>0.05</td>\n",
              "    </tr>\n",
              "    <tr>\n",
              "      <th>3</th>\n",
              "      <td>Sistema lento</td>\n",
              "      <td>165</td>\n",
              "      <td>1.2</td>\n",
              "      <td>32</td>\n",
              "      <td>0.03</td>\n",
              "      <td>0.00</td>\n",
              "    </tr>\n",
              "    <tr>\n",
              "      <th>4</th>\n",
              "      <td>Perda de conexao com a Internet</td>\n",
              "      <td>321</td>\n",
              "      <td>1.0</td>\n",
              "      <td>5</td>\n",
              "      <td>0.21</td>\n",
              "      <td>0.00</td>\n",
              "    </tr>\n",
              "  </tbody>\n",
              "</table>\n",
              "</div>\n",
              "      <button class=\"colab-df-convert\" onclick=\"convertToInteractive('df-0d28b5f6-b76a-402b-ae77-7a386f9b4e5e')\"\n",
              "              title=\"Convert this dataframe to an interactive table.\"\n",
              "              style=\"display:none;\">\n",
              "        \n",
              "  <svg xmlns=\"http://www.w3.org/2000/svg\" height=\"24px\"viewBox=\"0 0 24 24\"\n",
              "       width=\"24px\">\n",
              "    <path d=\"M0 0h24v24H0V0z\" fill=\"none\"/>\n",
              "    <path d=\"M18.56 5.44l.94 2.06.94-2.06 2.06-.94-2.06-.94-.94-2.06-.94 2.06-2.06.94zm-11 1L8.5 8.5l.94-2.06 2.06-.94-2.06-.94L8.5 2.5l-.94 2.06-2.06.94zm10 10l.94 2.06.94-2.06 2.06-.94-2.06-.94-.94-2.06-.94 2.06-2.06.94z\"/><path d=\"M17.41 7.96l-1.37-1.37c-.4-.4-.92-.59-1.43-.59-.52 0-1.04.2-1.43.59L10.3 9.45l-7.72 7.72c-.78.78-.78 2.05 0 2.83L4 21.41c.39.39.9.59 1.41.59.51 0 1.02-.2 1.41-.59l7.78-7.78 2.81-2.81c.8-.78.8-2.07 0-2.86zM5.41 20L4 18.59l7.72-7.72 1.47 1.35L5.41 20z\"/>\n",
              "  </svg>\n",
              "      </button>\n",
              "      \n",
              "  <style>\n",
              "    .colab-df-container {\n",
              "      display:flex;\n",
              "      flex-wrap:wrap;\n",
              "      gap: 12px;\n",
              "    }\n",
              "\n",
              "    .colab-df-convert {\n",
              "      background-color: #E8F0FE;\n",
              "      border: none;\n",
              "      border-radius: 50%;\n",
              "      cursor: pointer;\n",
              "      display: none;\n",
              "      fill: #1967D2;\n",
              "      height: 32px;\n",
              "      padding: 0 0 0 0;\n",
              "      width: 32px;\n",
              "    }\n",
              "\n",
              "    .colab-df-convert:hover {\n",
              "      background-color: #E2EBFA;\n",
              "      box-shadow: 0px 1px 2px rgba(60, 64, 67, 0.3), 0px 1px 3px 1px rgba(60, 64, 67, 0.15);\n",
              "      fill: #174EA6;\n",
              "    }\n",
              "\n",
              "    [theme=dark] .colab-df-convert {\n",
              "      background-color: #3B4455;\n",
              "      fill: #D2E3FC;\n",
              "    }\n",
              "\n",
              "    [theme=dark] .colab-df-convert:hover {\n",
              "      background-color: #434B5C;\n",
              "      box-shadow: 0px 1px 3px 1px rgba(0, 0, 0, 0.15);\n",
              "      filter: drop-shadow(0px 1px 2px rgba(0, 0, 0, 0.3));\n",
              "      fill: #FFFFFF;\n",
              "    }\n",
              "  </style>\n",
              "\n",
              "      <script>\n",
              "        const buttonEl =\n",
              "          document.querySelector('#df-0d28b5f6-b76a-402b-ae77-7a386f9b4e5e button.colab-df-convert');\n",
              "        buttonEl.style.display =\n",
              "          google.colab.kernel.accessAllowed ? 'block' : 'none';\n",
              "\n",
              "        async function convertToInteractive(key) {\n",
              "          const element = document.querySelector('#df-0d28b5f6-b76a-402b-ae77-7a386f9b4e5e');\n",
              "          const dataTable =\n",
              "            await google.colab.kernel.invokeFunction('convertToInteractive',\n",
              "                                                     [key], {});\n",
              "          if (!dataTable) return;\n",
              "\n",
              "          const docLinkHtml = 'Like what you see? Visit the ' +\n",
              "            '<a target=\"_blank\" href=https://colab.research.google.com/notebooks/data_table.ipynb>data table notebook</a>'\n",
              "            + ' to learn more about interactive tables.';\n",
              "          element.innerHTML = '';\n",
              "          dataTable['output_type'] = 'display_data';\n",
              "          await google.colab.output.renderOutput(dataTable, element);\n",
              "          const docLink = document.createElement('div');\n",
              "          docLink.innerHTML = docLinkHtml;\n",
              "          element.appendChild(docLink);\n",
              "        }\n",
              "      </script>\n",
              "    </div>\n",
              "  </div>\n",
              "  "
            ]
          },
          "metadata": {},
          "execution_count": 3
        }
      ],
      "source": [
        "raw_data.head()"
      ]
    },
    {
      "cell_type": "markdown",
      "metadata": {
        "id": "bliOh-PVVbMo"
      },
      "source": [
        "## Agrupando dados em clusters por similaridade\n",
        "\n",
        "Agora usaremos o agrupamento k-médias para agrupar dados com base no seu atributo. Primeiro precisamos determinar o número ideal de grupos. Para isso utilizaremos o Método do Cotovelo para ver onde o Cotovelo ocorre."
      ]
    },
    {
      "cell_type": "code",
      "execution_count": null,
      "metadata": {
        "scrolled": true,
        "colab": {
          "base_uri": "https://localhost:8080/",
          "height": 822
        },
        "id": "Li9c3g4TVbMp",
        "outputId": "1d6270cf-7205-488d-bdcf-96eb83073374"
      },
      "outputs": [
        {
          "output_type": "stream",
          "name": "stderr",
          "text": [
            "/usr/local/lib/python3.10/dist-packages/sklearn/cluster/_kmeans.py:870: FutureWarning: The default value of `n_init` will change from 10 to 'auto' in 1.4. Set the value of `n_init` explicitly to suppress the warning\n",
            "  warnings.warn(\n",
            "/usr/local/lib/python3.10/dist-packages/sklearn/cluster/_kmeans.py:870: FutureWarning: The default value of `n_init` will change from 10 to 'auto' in 1.4. Set the value of `n_init` explicitly to suppress the warning\n",
            "  warnings.warn(\n",
            "/usr/local/lib/python3.10/dist-packages/sklearn/cluster/_kmeans.py:870: FutureWarning: The default value of `n_init` will change from 10 to 'auto' in 1.4. Set the value of `n_init` explicitly to suppress the warning\n",
            "  warnings.warn(\n",
            "/usr/local/lib/python3.10/dist-packages/sklearn/cluster/_kmeans.py:870: FutureWarning: The default value of `n_init` will change from 10 to 'auto' in 1.4. Set the value of `n_init` explicitly to suppress the warning\n",
            "  warnings.warn(\n",
            "/usr/local/lib/python3.10/dist-packages/sklearn/cluster/_kmeans.py:870: FutureWarning: The default value of `n_init` will change from 10 to 'auto' in 1.4. Set the value of `n_init` explicitly to suppress the warning\n",
            "  warnings.warn(\n",
            "/usr/local/lib/python3.10/dist-packages/sklearn/cluster/_kmeans.py:870: FutureWarning: The default value of `n_init` will change from 10 to 'auto' in 1.4. Set the value of `n_init` explicitly to suppress the warning\n",
            "  warnings.warn(\n",
            "/usr/local/lib/python3.10/dist-packages/sklearn/cluster/_kmeans.py:870: FutureWarning: The default value of `n_init` will change from 10 to 'auto' in 1.4. Set the value of `n_init` explicitly to suppress the warning\n",
            "  warnings.warn(\n",
            "/usr/local/lib/python3.10/dist-packages/sklearn/cluster/_kmeans.py:870: FutureWarning: The default value of `n_init` will change from 10 to 'auto' in 1.4. Set the value of `n_init` explicitly to suppress the warning\n",
            "  warnings.warn(\n",
            "/usr/local/lib/python3.10/dist-packages/sklearn/cluster/_kmeans.py:870: FutureWarning: The default value of `n_init` will change from 10 to 'auto' in 1.4. Set the value of `n_init` explicitly to suppress the warning\n",
            "  warnings.warn(\n"
          ]
        },
        {
          "output_type": "execute_result",
          "data": {
            "text/plain": [
              "Text(0.5, 1.0, 'Selecionar k com o Método do Cotovelo')"
            ]
          },
          "metadata": {},
          "execution_count": 4
        },
        {
          "output_type": "display_data",
          "data": {
            "text/plain": [
              "<Figure size 640x480 with 1 Axes>"
            ],
            "image/png": "[encoded data removed]"
          },
          "metadata": {}
        }
      ],
      "source": [
        "clust_data = raw_data.drop(\"PROBLEMA_TIPO\",axis=1)\n",
        "\n",
        "#Encontrando o número ideal de clusters\n",
        "from scipy.spatial.distance import cdist\n",
        "clusters=range(1,10)\n",
        "meanDistortions=[]\n",
        "\n",
        "for k in clusters:\n",
        "    model=KMeans(n_clusters=k)\n",
        "    model.fit(clust_data)\n",
        "    prediction=model.predict(clust_data)\n",
        "    meanDistortions.append(sum(np.min(cdist(clust_data, model.cluster_centers_, 'euclidean'), axis=1)) / clust_data.shape[0])\n",
        "\n",
        "#plt.cla()\n",
        "plt.plot(clusters, meanDistortions, 'bx-')\n",
        "plt.xlabel('k')\n",
        "plt.ylabel('Distorção média')\n",
        "plt.title('Selecionar k com o Método do Cotovelo')\n"
      ]
    },
    {
      "cell_type": "markdown",
      "metadata": {
        "id": "sGzBxtksVbMp"
      },
      "source": [
        "Observando o gráfico, vemos que o joelho ocorre em cluster=3. Esse é o número ideal de clusters."
      ]
    },
    {
      "cell_type": "code",
      "execution_count": null,
      "metadata": {
        "colab": {
          "base_uri": "https://localhost:8080/",
          "height": 766
        },
        "id": "D-2Z6FJGVbMq",
        "outputId": "03bd6228-a015-40a6-8c60-5453835c8fc8"
      },
      "outputs": [
        {
          "output_type": "stream",
          "name": "stdout",
          "text": [
            "Grupos atribuídos : \n",
            "\n"
          ]
        },
        {
          "output_type": "stream",
          "name": "stderr",
          "text": [
            "/usr/local/lib/python3.10/dist-packages/sklearn/cluster/_kmeans.py:870: FutureWarning: The default value of `n_init` will change from 10 to 'auto' in 1.4. Set the value of `n_init` explicitly to suppress the warning\n",
            "  warnings.warn(\n"
          ]
        },
        {
          "output_type": "execute_result",
          "data": {
            "text/plain": [
              "    GRUPO                             PROBLEMA_TIPO\n",
              "0       0                      Perda de senha Admin\n",
              "1       0          Windows Reinicia automaticamente\n",
              "2       0        Sistema nao carrega apos reiniciar\n",
              "3       2                             Sistema lento\n",
              "4       1           Perda de conexao com a Internet\n",
              "5       0                Nova instalacao no aguardo\n",
              "6       0                  Tela branca intermitente\n",
              "7       2                Muitos popups no navegador\n",
              "8       2                 Impressora nao encontrada\n",
              "9       0                Falta driver de periferico\n",
              "10      1                     Teclado nao detectado\n",
              "11      1                       Mouse nao detectado\n",
              "12      1                   Head phone nao funciona\n",
              "13      2                    Erro de leitura de DVD\n",
              "14      0  Nao e possivel recuperar com restauracao\n",
              "15      2                         WIFI nao funciona\n",
              "16      0                      Notebook nao carrega\n",
              "17      0           Notebook descarrega rapidamente\n",
              "18      0                   Manchas escuras na tela\n",
              "19      2                   anti-virus nao funciona"
            ],
            "text/html": [
              "\n",
              "  <div id=\"df-377c5fcf-ebb9-4971-9457-853a5f62ef68\">\n",
              "    <div class=\"colab-df-container\">\n",
              "      <div>\n",
              "<style scoped>\n",
              "    .dataframe tbody tr th:only-of-type {\n",
              "        vertical-align: middle;\n",
              "    }\n",
              "\n",
              "    .dataframe tbody tr th {\n",
              "        vertical-align: top;\n",
              "    }\n",
              "\n",
              "    .dataframe thead th {\n",
              "        text-align: right;\n",
              "    }\n",
              "</style>\n",
              "<table border=\"1\" class=\"dataframe\">\n",
              "  <thead>\n",
              "    <tr style=\"text-align: right;\">\n",
              "      <th></th>\n",
              "      <th>GRUPO</th>\n",
              "      <th>PROBLEMA_TIPO</th>\n",
              "    </tr>\n",
              "  </thead>\n",
              "  <tbody>\n",
              "    <tr>\n",
              "      <th>0</th>\n",
              "      <td>0</td>\n",
              "      <td>Perda de senha Admin</td>\n",
              "    </tr>\n",
              "    <tr>\n",
              "      <th>1</th>\n",
              "      <td>0</td>\n",
              "      <td>Windows Reinicia automaticamente</td>\n",
              "    </tr>\n",
              "    <tr>\n",
              "      <th>2</th>\n",
              "      <td>0</td>\n",
              "      <td>Sistema nao carrega apos reiniciar</td>\n",
              "    </tr>\n",
              "    <tr>\n",
              "      <th>3</th>\n",
              "      <td>2</td>\n",
              "      <td>Sistema lento</td>\n",
              "    </tr>\n",
              "    <tr>\n",
              "      <th>4</th>\n",
              "      <td>1</td>\n",
              "      <td>Perda de conexao com a Internet</td>\n",
              "    </tr>\n",
              "    <tr>\n",
              "      <th>5</th>\n",
              "      <td>0</td>\n",
              "      <td>Nova instalacao no aguardo</td>\n",
              "    </tr>\n",
              "    <tr>\n",
              "      <th>6</th>\n",
              "      <td>0</td>\n",
              "      <td>Tela branca intermitente</td>\n",
              "    </tr>\n",
              "    <tr>\n",
              "      <th>7</th>\n",
              "      <td>2</td>\n",
              "      <td>Muitos popups no navegador</td>\n",
              "    </tr>\n",
              "    <tr>\n",
              "      <th>8</th>\n",
              "      <td>2</td>\n",
              "      <td>Impressora nao encontrada</td>\n",
              "    </tr>\n",
              "    <tr>\n",
              "      <th>9</th>\n",
              "      <td>0</td>\n",
              "      <td>Falta driver de periferico</td>\n",
              "    </tr>\n",
              "    <tr>\n",
              "      <th>10</th>\n",
              "      <td>1</td>\n",
              "      <td>Teclado nao detectado</td>\n",
              "    </tr>\n",
              "    <tr>\n",
              "      <th>11</th>\n",
              "      <td>1</td>\n",
              "      <td>Mouse nao detectado</td>\n",
              "    </tr>\n",
              "    <tr>\n",
              "      <th>12</th>\n",
              "      <td>1</td>\n",
              "      <td>Head phone nao funciona</td>\n",
              "    </tr>\n",
              "    <tr>\n",
              "      <th>13</th>\n",
              "      <td>2</td>\n",
              "      <td>Erro de leitura de DVD</td>\n",
              "    </tr>\n",
              "    <tr>\n",
              "      <th>14</th>\n",
              "      <td>0</td>\n",
              "      <td>Nao e possivel recuperar com restauracao</td>\n",
              "    </tr>\n",
              "    <tr>\n",
              "      <th>15</th>\n",
              "      <td>2</td>\n",
              "      <td>WIFI nao funciona</td>\n",
              "    </tr>\n",
              "    <tr>\n",
              "      <th>16</th>\n",
              "      <td>0</td>\n",
              "      <td>Notebook nao carrega</td>\n",
              "    </tr>\n",
              "    <tr>\n",
              "      <th>17</th>\n",
              "      <td>0</td>\n",
              "      <td>Notebook descarrega rapidamente</td>\n",
              "    </tr>\n",
              "    <tr>\n",
              "      <th>18</th>\n",
              "      <td>0</td>\n",
              "      <td>Manchas escuras na tela</td>\n",
              "    </tr>\n",
              "    <tr>\n",
              "      <th>19</th>\n",
              "      <td>2</td>\n",
              "      <td>anti-virus nao funciona</td>\n",
              "    </tr>\n",
              "  </tbody>\n",
              "</table>\n",
              "</div>\n",
              "      <button class=\"colab-df-convert\" onclick=\"convertToInteractive('df-377c5fcf-ebb9-4971-9457-853a5f62ef68')\"\n",
              "              title=\"Convert this dataframe to an interactive table.\"\n",
              "              style=\"display:none;\">\n",
              "        \n",
              "  <svg xmlns=\"http://www.w3.org/2000/svg\" height=\"24px\"viewBox=\"0 0 24 24\"\n",
              "       width=\"24px\">\n",
              "    <path d=\"M0 0h24v24H0V0z\" fill=\"none\"/>\n",
              "    <path d=\"M18.56 5.44l.94 2.06.94-2.06 2.06-.94-2.06-.94-.94-2.06-.94 2.06-2.06.94zm-11 1L8.5 8.5l.94-2.06 2.06-.94-2.06-.94L8.5 2.5l-.94 2.06-2.06.94zm10 10l.94 2.06.94-2.06 2.06-.94-2.06-.94-.94-2.06-.94 2.06-2.06.94z\"/><path d=\"M17.41 7.96l-1.37-1.37c-.4-.4-.92-.59-1.43-.59-.52 0-1.04.2-1.43.59L10.3 9.45l-7.72 7.72c-.78.78-.78 2.05 0 2.83L4 21.41c.39.39.9.59 1.41.59.51 0 1.02-.2 1.41-.59l7.78-7.78 2.81-2.81c.8-.78.8-2.07 0-2.86zM5.41 20L4 18.59l7.72-7.72 1.47 1.35L5.41 20z\"/>\n",
              "  </svg>\n",
              "      </button>\n",
              "      \n",
              "  <style>\n",
              "    .colab-df-container {\n",
              "      display:flex;\n",
              "      flex-wrap:wrap;\n",
              "      gap: 12px;\n",
              "    }\n",
              "\n",
              "    .colab-df-convert {\n",
              "      background-color: #E8F0FE;\n",
              "      border: none;\n",
              "      border-radius: 50%;\n",
              "      cursor: pointer;\n",
              "      display: none;\n",
              "      fill: #1967D2;\n",
              "      height: 32px;\n",
              "      padding: 0 0 0 0;\n",
              "      width: 32px;\n",
              "    }\n",
              "\n",
              "    .colab-df-convert:hover {\n",
              "      background-color: #E2EBFA;\n",
              "      box-shadow: 0px 1px 2px rgba(60, 64, 67, 0.3), 0px 1px 3px 1px rgba(60, 64, 67, 0.15);\n",
              "      fill: #174EA6;\n",
              "    }\n",
              "\n",
              "    [theme=dark] .colab-df-convert {\n",
              "      background-color: #3B4455;\n",
              "      fill: #D2E3FC;\n",
              "    }\n",
              "\n",
              "    [theme=dark] .colab-df-convert:hover {\n",
              "      background-color: #434B5C;\n",
              "      box-shadow: 0px 1px 3px 1px rgba(0, 0, 0, 0.15);\n",
              "      filter: drop-shadow(0px 1px 2px rgba(0, 0, 0, 0.3));\n",
              "      fill: #FFFFFF;\n",
              "    }\n",
              "  </style>\n",
              "\n",
              "      <script>\n",
              "        const buttonEl =\n",
              "          document.querySelector('#df-377c5fcf-ebb9-4971-9457-853a5f62ef68 button.colab-df-convert');\n",
              "        buttonEl.style.display =\n",
              "          google.colab.kernel.accessAllowed ? 'block' : 'none';\n",
              "\n",
              "        async function convertToInteractive(key) {\n",
              "          const element = document.querySelector('#df-377c5fcf-ebb9-4971-9457-853a5f62ef68');\n",
              "          const dataTable =\n",
              "            await google.colab.kernel.invokeFunction('convertToInteractive',\n",
              "                                                     [key], {});\n",
              "          if (!dataTable) return;\n",
              "\n",
              "          const docLinkHtml = 'Like what you see? Visit the ' +\n",
              "            '<a target=\"_blank\" href=https://colab.research.google.com/notebooks/data_table.ipynb>data table notebook</a>'\n",
              "            + ' to learn more about interactive tables.';\n",
              "          element.innerHTML = '';\n",
              "          dataTable['output_type'] = 'display_data';\n",
              "          await google.colab.output.renderOutput(dataTable, element);\n",
              "          const docLink = document.createElement('div');\n",
              "          docLink.innerHTML = docLinkHtml;\n",
              "          element.appendChild(docLink);\n",
              "        }\n",
              "      </script>\n",
              "    </div>\n",
              "  </div>\n",
              "  "
            ]
          },
          "metadata": {},
          "execution_count": 5
        }
      ],
      "source": [
        "#O número ideal de clusters é 3\n",
        "final_model=KMeans(3)\n",
        "final_model.fit(clust_data)\n",
        "prediction=final_model.predict(clust_data)\n",
        "\n",
        "#Adicionando os clusters previstos nos dados brutos\n",
        "raw_data[\"GRUPO\"] = prediction\n",
        "print(\"Grupos atribuídos : \\n\")\n",
        "raw_data[[\"GRUPO\",\"PROBLEMA_TIPO\"]]"
      ]
    },
    {
      "cell_type": "markdown",
      "metadata": {
        "id": "ckGQfu2RVbMq"
      },
      "source": [
        "## Analisando os grupos\n",
        "Avaliando os clusters para verificar como os grupos diferem de acordo com várias  características."
      ]
    },
    {
      "cell_type": "code",
      "execution_count": null,
      "metadata": {
        "colab": {
          "base_uri": "https://localhost:8080/",
          "height": 430
        },
        "id": "bKoDciJUVbMr",
        "outputId": "5c14e0f8-aed5-4f91-9180-ca72a2f74a4b"
      },
      "outputs": [
        {
          "output_type": "display_data",
          "data": {
            "text/plain": [
              "<Figure size 640x480 with 1 Axes>"
            ],
            "image/png": "[encoded data removed]"
          },
          "metadata": {}
        }
      ],
      "source": [
        "plt.cla()\n",
        "plt.boxplot([np.array(raw_data[\"CONTAGEM\"][raw_data.GRUPO==0]),\n",
        "              np.array(raw_data[\"CONTAGEM\"][raw_data.GRUPO==1]) ,\n",
        "                np.array(raw_data[\"CONTAGEM\"][raw_data.GRUPO==2]) ],\n",
        "            labels=('GRUPO 1','GRUPO 2','GRUPO 3'))\n",
        "plt.show()"
      ]
    },
    {
      "cell_type": "markdown",
      "source": [
        "Podemos observar que a contagem de incidentes varia de acordo com cada grupos."
      ],
      "metadata": {
        "id": "VSsnFxSVW-eW"
      }
    },
    {
      "cell_type": "code",
      "execution_count": null,
      "metadata": {
        "colab": {
          "base_uri": "https://localhost:8080/",
          "height": 430
        },
        "id": "Dl0qW3QQVbMr",
        "outputId": "a66a38ed-bd92-4324-e99b-b7c66fb67ff0"
      },
      "outputs": [
        {
          "output_type": "display_data",
          "data": {
            "text/plain": [
              "<Figure size 640x480 with 1 Axes>"
            ],
            "image/png": "[encoded data removed]"
          },
          "metadata": {}
        }
      ],
      "source": [
        "#Média de chamados para resolver\n",
        "plt.cla()\n",
        "plt.boxplot([np.array(raw_data[\"MEDIA_CHAMADOS_PARA_RESOLVER\"][raw_data.GRUPO==0]),\n",
        "              np.array(raw_data[\"MEDIA_CHAMADOS_PARA_RESOLVER\"][raw_data.GRUPO==1]) ,\n",
        "                np.array(raw_data[\"MEDIA_CHAMADOS_PARA_RESOLVER\"][raw_data.GRUPO==2]) ],\n",
        "            labels=('GRUPO 1','GRUPO 2','GRUPO 3'))\n",
        "plt.show()\n"
      ]
    },
    {
      "cell_type": "markdown",
      "metadata": {
        "collapsed": true,
        "id": "j8oFeQJEVbMr"
      },
      "source": [
        "O Grupo 2 quase não precisou de tempo para resolver. Isso indica problemas simples e diretos. A empresa precisa analisar esses incidentes e oferecer um caminho de autoatendimento (ajuda de produtos, ajuda online) para o cliente, em vez de desperdiçar o tempo do atendente."
      ]
    },
    {
      "cell_type": "code",
      "execution_count": null,
      "metadata": {
        "colab": {
          "base_uri": "https://localhost:8080/",
          "height": 430
        },
        "id": "P9g_29aAVbMs",
        "outputId": "f59cd46e-79e6-4fc1-d119-40665ce85815"
      },
      "outputs": [
        {
          "output_type": "display_data",
          "data": {
            "text/plain": [
              "<Figure size 640x480 with 1 Axes>"
            ],
            "image/png": "[encoded data removed]"
          },
          "metadata": {}
        }
      ],
      "source": [
        "#Recorrência de problemas\n",
        "plt.cla()\n",
        "plt.boxplot([np.array(raw_data[\"RECORR_TAXA\"][raw_data.GRUPO==0]),\n",
        "              np.array(raw_data[\"RECORR_TAXA\"][raw_data.GRUPO==1]) ,\n",
        "                np.array(raw_data[\"RECORR_TAXA\"][raw_data.GRUPO==2]) ],\n",
        "            labels=('GRUPO 1','GRUPO 2','GRUPO 3'))\n",
        "plt.show()\n"
      ]
    },
    {
      "cell_type": "markdown",
      "metadata": {
        "id": "GQejRsl3VbMs"
      },
      "source": [
        "O grupo 1 tem um índice de recorrência bastante alto. Analisando este conjunto de incidentes vemos como a qualidade do produto pode ser melhorada para evitar que isso aconteça."
      ]
    },
    {
      "cell_type": "code",
      "execution_count": null,
      "metadata": {
        "colab": {
          "base_uri": "https://localhost:8080/",
          "height": 430
        },
        "id": "M5MsPiI2VbMs",
        "outputId": "a66d51d1-0545-47ea-8857-9570912b4000"
      },
      "outputs": [
        {
          "output_type": "display_data",
          "data": {
            "text/plain": [
              "<Figure size 640x480 with 1 Axes>"
            ],
            "image/png": "[encoded data removed]"
          },
          "metadata": {}
        }
      ],
      "source": [
        "# Taxa de substituição de produtos\n",
        "plt.cla()\n",
        "plt.boxplot([np.array(raw_data[\"SUBSTITUICAO_TAXA\"][raw_data.GRUPO==0]),\n",
        "              np.array(raw_data[\"SUBSTITUICAO_TAXA\"][raw_data.GRUPO==1]) ,\n",
        "                np.array(raw_data[\"SUBSTITUICAO_TAXA\"][raw_data.GRUPO==2]) ],\n",
        "            labels=('GRUPO 1','GRUPO 2','GRUPO 3'))\n",
        "plt.show()"
      ]
    },
    {
      "cell_type": "markdown",
      "metadata": {
        "id": "wLgkH2pDVbMs"
      },
      "source": [
        "Os índices de substituição variam muito para o grupo 1. Isso não oferece nenhum parâmetro significativo para agir."
      ]
    },
    {
      "cell_type": "markdown",
      "source": [
        "Com isto percebemos que:\n",
        "\n",
        "- Grupo 1:\n",
        "\n",
        "\n",
        "    *   Poucos incidentes;\n",
        "    *   Maior média de indicentes a resolver;\n",
        "    *   Maior recorrencia de problemas;\n",
        "    *   Maior taxa de susbstituição de produtos.\n",
        "\n",
        "\n",
        "- Grupo 2:\n",
        "\n",
        "\n",
        "    *   Maior número de incidentes;\n",
        "    *   Menor média de indicentes a resolver;\n",
        "    *   Alta recorrencia de problemas;\n",
        "    *   Baixa taxa de susbstituição de produtos.\n",
        "\n",
        "- Grupo 3:\n",
        "\n",
        "\n",
        "    *   Quantidade média em número de incidentes;\n",
        "    *   Baixo número indicentes a resolver;\n",
        "    *   Menor taxa de recorrencia de problemas entre os grupos;\n",
        "    *   Baixa taxa de susbstituição de produtos.\n",
        "\n",
        "\n"
      ],
      "metadata": {
        "id": "5tPMLXtW-0pe"
      }
    }
  ],
  "metadata": {
    "anaconda-cloud": {},
    "kernelspec": {
      "display_name": "Python 3 (ipykernel)",
      "language": "python",
      "name": "python3"
    },
    "language_info": {
      "codemirror_mode": {
        "name": "ipython",
        "version": 3
      },
      "file_extension": ".py",
      "mimetype": "text/x-python",
      "name": "python",
      "nbconvert_exporter": "python",
      "pygments_lexer": "ipython3",
      "version": "3.9.12"
    },
    "colab": {
      "provenance": []
    }
  },
  "nbformat": 4,
  "nbformat_minor": 0
}