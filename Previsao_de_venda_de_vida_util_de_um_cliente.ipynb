{
  "cells": [
    {
      "cell_type": "markdown",
      "metadata": {
        "id": "ADg_OXOhGa3i"
      },
      "source": [
        " ## Prevendo o valor do ciclo de vida do cliente (CLV)</p>"
      ]
    },
    {
      "cell_type": "markdown",
      "metadata": {
        "id": "7WXf4W_uGa3r"
      },
      "source": [
        "Usando o histórico de compras anteriores dos seus clientes para criar um modelo que possa prever o Valor do Ciclo de Vida do Cliente (CLV) para clientes novos"
      ]
    },
    {
      "cell_type": "markdown",
      "metadata": {
        "id": "nlN-ChsJGa3r"
      },
      "source": [
        "## Carregando e visualizando os dados"
      ]
    },
    {
      "cell_type": "code",
      "execution_count": null,
      "metadata": {
        "colab": {
          "base_uri": "https://localhost:8080/"
        },
        "id": "EU7cN4m7Ga3s",
        "outputId": "f813eac6-237c-4598-b964-10987ebb1db8"
      },
      "outputs": [
        {
          "output_type": "execute_result",
          "data": {
            "text/plain": [
              "CLIENTE_ID    int64\n",
              "MES_1         int64\n",
              "MES_2         int64\n",
              "MES_3         int64\n",
              "MES_4         int64\n",
              "MES_5         int64\n",
              "MES_6         int64\n",
              "CLV           int64\n",
              "dtype: object"
            ]
          },
          "metadata": {},
          "execution_count": 1
        }
      ],
      "source": [
        "from pandas import Series, DataFrame\n",
        "import pandas as pd\n",
        "import numpy as np\n",
        "import os\n",
        "import matplotlib.pylab as plt\n",
        "from sklearn.model_selection  import train_test_split\n",
        "from sklearn.linear_model import LinearRegression\n",
        "import sklearn.metrics\n",
        "\n",
        "raw_data = pd.read_csv(\"04_05_history.csv\")\n",
        "\n",
        "raw_data.dtypes\n"
      ]
    },
    {
      "cell_type": "markdown",
      "metadata": {
        "id": "lSYUaeweGa3t"
      },
      "source": [
        "O conjunto de dados consiste no ID do cliente, no valor que o cliente gastou em seu site nos primeiros meses de relacionamento com sua empresa e no valor final do ciclo de vida (digamos três anos)"
      ]
    },
    {
      "cell_type": "code",
      "execution_count": null,
      "metadata": {
        "id": "pvdroVLXGa3t",
        "outputId": "130ebe9d-b437-43c3-ce90-f40bca008af4"
      },
      "outputs": [
        {
          "data": {
            "text/html": [
              "<div>\n",
              "<style scoped>\n",
              "    .dataframe tbody tr th:only-of-type {\n",
              "        vertical-align: middle;\n",
              "    }\n",
              "\n",
              "    .dataframe tbody tr th {\n",
              "        vertical-align: top;\n",
              "    }\n",
              "\n",
              "    .dataframe thead th {\n",
              "        text-align: right;\n",
              "    }\n",
              "</style>\n",
              "<table border=\"1\" class=\"dataframe\">\n",
              "  <thead>\n",
              "    <tr style=\"text-align: right;\">\n",
              "      <th></th>\n",
              "      <th>CLIENTE_ID;MES_1;MES_2;MES_3;MES_4;MES_5;MES_6;CLV</th>\n",
              "    </tr>\n",
              "  </thead>\n",
              "  <tbody>\n",
              "    <tr>\n",
              "      <th>0</th>\n",
              "      <td>1001;150;75;200;100;175;75;13125</td>\n",
              "    </tr>\n",
              "    <tr>\n",
              "      <th>1</th>\n",
              "      <td>1002;25;50;150;200;175;200;9375</td>\n",
              "    </tr>\n",
              "    <tr>\n",
              "      <th>2</th>\n",
              "      <td>1003;75;150;0;25;75;25;5156</td>\n",
              "    </tr>\n",
              "    <tr>\n",
              "      <th>3</th>\n",
              "      <td>1004;200;200;25;100;75;150;11756</td>\n",
              "    </tr>\n",
              "    <tr>\n",
              "      <th>4</th>\n",
              "      <td>1005;200;200;125;75;175;200;15525</td>\n",
              "    </tr>\n",
              "  </tbody>\n",
              "</table>\n",
              "</div>"
            ],
            "text/plain": [
              "  CLIENTE_ID;MES_1;MES_2;MES_3;MES_4;MES_5;MES_6;CLV\n",
              "0                   1001;150;75;200;100;175;75;13125\n",
              "1                    1002;25;50;150;200;175;200;9375\n",
              "2                        1003;75;150;0;25;75;25;5156\n",
              "3                   1004;200;200;25;100;75;150;11756\n",
              "4                  1005;200;200;125;75;175;200;15525"
            ]
          },
          "execution_count": 3,
          "metadata": {},
          "output_type": "execute_result"
        }
      ],
      "source": [
        "raw_data.head()"
      ]
    },
    {
      "cell_type": "markdown",
      "metadata": {
        "id": "RygI-FA8Ga3t"
      },
      "source": [
        "## Análise da correlação"
      ]
    },
    {
      "cell_type": "code",
      "execution_count": null,
      "metadata": {
        "colab": {
          "base_uri": "https://localhost:8080/"
        },
        "id": "TOfWa1FGGa3u",
        "outputId": "b82f4d30-5709-4b93-eed5-027e23b9dfe4"
      },
      "outputs": [
        {
          "output_type": "execute_result",
          "data": {
            "text/plain": [
              "MES_1    0.734122\n",
              "MES_2    0.250397\n",
              "MES_3    0.371742\n",
              "MES_4    0.297408\n",
              "MES_5    0.376775\n",
              "MES_6    0.327064\n",
              "CLV      1.000000\n",
              "Name: CLV, dtype: float64"
            ]
          },
          "metadata": {},
          "execution_count": 2
        }
      ],
      "source": [
        "cleaned_data = raw_data.drop(\"CLIENTE_ID\",axis=1)\n",
        "cleaned_data .corr()['CLV']"
      ]
    },
    {
      "cell_type": "markdown",
      "metadata": {
        "id": "cSikBx0mGa3u"
      },
      "source": [
        "Podemos ver que os meses apresentam sólida correlação com a variável alvo (CLV). Isso nos dá confiança de que podemos criar um modelo para prever o CLV"
      ]
    },
    {
      "cell_type": "markdown",
      "metadata": {
        "id": "pnA05WMWGa3u"
      },
      "source": [
        "## Divisão de treinamento e teste\n",
        "\n",
        "Agora dividimos os dados em dados de treinamento e testes na proporção 90:10."
      ]
    },
    {
      "cell_type": "code",
      "execution_count": null,
      "metadata": {
        "colab": {
          "base_uri": "https://localhost:8080/"
        },
        "id": "Lx6xHDqOGa3u",
        "outputId": "6b1fa905-89f8-4e54-9627-eda8d331bddd"
      },
      "outputs": [
        {
          "output_type": "stream",
          "name": "stdout",
          "text": [
            "Preditor - Treinamento :  (90, 6) Preditor - Teste :  (10, 6)\n"
          ]
        }
      ],
      "source": [
        "predictors = cleaned_data.drop(\"CLV\",axis=1)\n",
        "targets = cleaned_data.CLV\n",
        "\n",
        "pred_train, pred_test, tar_train, tar_test  =   train_test_split(predictors, targets, test_size=.1)\n",
        "print( \"Preditor - Treinamento : \", pred_train.shape, \"Preditor - Teste : \", pred_test.shape )\n"
      ]
    },
    {
      "cell_type": "markdown",
      "metadata": {
        "id": "kcjN0d7BGa3v"
      },
      "source": [
        "## Testar o modelo\n",
        "Criamosuma equação de regressão linear para prever o CLV e, em seguida, verificamos a sua precisão ao prever em relação ao conjunto de dados de testes"
      ]
    },
    {
      "cell_type": "code",
      "execution_count": null,
      "metadata": {
        "colab": {
          "base_uri": "https://localhost:8080/"
        },
        "id": "oYqDNSkvGa3v",
        "outputId": "0b1bf35c-a067-46bf-c392-f6d8f44f3c27"
      },
      "outputs": [
        {
          "output_type": "stream",
          "name": "stdout",
          "text": [
            "Coeficientes: \n",
            " [35.42222745 11.38939425 15.83618861 13.08739993  8.32705537  5.39506965]\n",
            "Intersecção: -400.89486703586226\n"
          ]
        },
        {
          "output_type": "execute_result",
          "data": {
            "text/plain": [
              "0.8205006892671558"
            ]
          },
          "metadata": {},
          "execution_count": 4
        }
      ],
      "source": [
        "#Criando o modelo com dados de treinamento\n",
        "model = LinearRegression()\n",
        "model.fit(pred_train,tar_train)\n",
        "print(\"Coeficientes: \\n\", model.coef_)\n",
        "print(\"Intersecção:\", model.intercept_)\n",
        "\n",
        "#Testando com os dados de teste\n",
        "predictions = model.predict(pred_test)\n",
        "predictions\n",
        "\n",
        "sklearn.metrics.r2_score(tar_test, predictions)"
      ]
    },
    {
      "cell_type": "markdown",
      "metadata": {
        "id": "yBzj4KKiGa3v"
      },
      "source": [
        "Apresenta 90% de precisão. Este é um excelente modelo para prever o CLV"
      ]
    },
    {
      "cell_type": "markdown",
      "metadata": {
        "id": "8NZoJtjdGa3v"
      },
      "source": [
        "## Prevendo o CLV para uma novo cliente\n",
        "Supondo que temos um novo cliente que nos primeiros três meses gastou 100,0,50 no seu site. Usarei o o modelo para prever o CLV dele."
      ]
    },
    {
      "cell_type": "code",
      "execution_count": null,
      "metadata": {
        "colab": {
          "base_uri": "https://localhost:8080/"
        },
        "id": "K4NfSsEtGa3v",
        "outputId": "c37233e7-0b25-432b-940c-87f7522a7e06"
      },
      "outputs": [
        {
          "output_type": "stream",
          "name": "stdout",
          "text": [
            "O CLV para o novo cliente é : $ 3933.1373089593435\n"
          ]
        },
        {
          "output_type": "stream",
          "name": "stderr",
          "text": [
            "/usr/local/lib/python3.10/dist-packages/sklearn/base.py:439: UserWarning: X does not have valid feature names, but LinearRegression was fitted with feature names\n",
            "  warnings.warn(\n"
          ]
        }
      ],
      "source": [
        "new_data = np.array([100,0,50,0,0,0]).reshape(1, -1)\n",
        "new_pred=model.predict(new_data)\n",
        "print(\"O CLV para o novo cliente é : $\",new_pred[0])"
      ]
    },
    {
      "cell_type": "code",
      "execution_count": null,
      "metadata": {
        "collapsed": true,
        "id": "GgPfWWNiGa3v"
      },
      "outputs": [],
      "source": []
    }
  ],
  "metadata": {
    "kernelspec": {
      "display_name": "Python 3 (ipykernel)",
      "language": "python",
      "name": "python3"
    },
    "language_info": {
      "codemirror_mode": {
        "name": "ipython",
        "version": 3
      },
      "file_extension": ".py",
      "mimetype": "text/x-python",
      "name": "python",
      "nbconvert_exporter": "python",
      "pygments_lexer": "ipython3",
      "version": "3.9.12"
    },
    "colab": {
      "provenance": []
    }
  },
  "nbformat": 4,
  "nbformat_minor": 0
}